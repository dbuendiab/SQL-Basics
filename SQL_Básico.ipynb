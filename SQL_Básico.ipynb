{
  "nbformat": 4,
  "nbformat_minor": 0,
  "metadata": {
    "colab": {
      "name": "Copia de SQL Básico.ipynb",
      "provenance": [],
      "collapsed_sections": [
        "ZvfyyEIszZu_"
      ],
      "toc_visible": true,
      "include_colab_link": true
    },
    "kernelspec": {
      "name": "python3",
      "display_name": "Python 3"
    }
  },
  "cells": [
    {
      "cell_type": "markdown",
      "metadata": {
        "id": "view-in-github",
        "colab_type": "text"
      },
      "source": [
        "<a href=\"https://colab.research.google.com/github/dbuendiab/SQL-Basics/blob/main/SQL_B%C3%A1sico.ipynb\" target=\"_parent\"><img src=\"https://colab.research.google.com/assets/colab-badge.svg\" alt=\"Open In Colab\"/></a>"
      ]
    },
    {
      "cell_type": "markdown",
      "metadata": {
        "id": "rNzuDB-x1Md-"
      },
      "source": [
        "# Introducción al SQL\n",
        "\n",
        "Este cuaderno interactivo te permite aprender y practicar la sintaxis SQL de una forma espero que sencilla.\n",
        "\n",
        "Para tener una base con la que practicar, he bajado una tabla de datos sobre contagios de COVID en Cataluña, obtenida en el portal  [Dades Obertas de la Generalitat](https://analisi.transparenciacatalunya.cat/Salut/Registre-de-casos-de-COVID-19-realitzats-a-Catalun/jj6z-iyrp/data).\n",
        "\n",
        "Pero, antes de seguir, ejecuta las celdas ocultas de la siguiente sección, que prepara el cuaderno para poder seguir las prácticas."
      ]
    },
    {
      "cell_type": "markdown",
      "metadata": {
        "id": "ZvfyyEIszZu_"
      },
      "source": [
        "## Preparativos\n",
        "\n",
        "Ejecuta las tres celdas siguientes:\n",
        "* **Descargar la base de datos**: aparte de este cuaderno, necesitas la base de datos *covid.db*, que está en un repositorio remoto.\n",
        "* **Conexión a base de datos (COVID)**: para establecer la conexión a la base de datos\n",
        "* **Creación del comando %%sql**: para escribir código SQL directamente.\n",
        "\n",
        "Una vez hecho, ejecuta la **celda de prueba** a continuación."
      ]
    },
    {
      "cell_type": "code",
      "metadata": {
        "id": "GeirFvZWoWSt",
        "colab": {
          "base_uri": "https://localhost:8080/"
        },
        "outputId": "b6dba945-ed48-40ca-f5e5-409ef6409207"
      },
      "source": [
        "#@title Descargar la base de datos covid.db\n",
        "!curl --remote-name \\\n",
        "     -H 'Accept: application/vnd.github.v3.raw' \\\n",
        "     --location https://github.com/dbuendiab/SQL-Basics/blob/main/covid.db?raw=true \\\n",
        "\n",
        "# Ajustar el nombre quitando el raw=true \n",
        "!mv covid.db?raw=true covid.db"
      ],
      "execution_count": null,
      "outputs": [
        {
          "output_type": "stream",
          "text": [
            "  % Total    % Received % Xferd  Average Speed   Time    Time     Time  Current\n",
            "                                 Dload  Upload   Total   Spent    Left  Speed\n",
            "100   123  100   123    0     0    691      0 --:--:-- --:--:-- --:--:--   691\n",
            "100   134  100   134    0     0    413      0 --:--:-- --:--:-- --:--:--   413\n",
            "100 10.5M  100 10.5M    0     0  10.7M      0 --:--:-- --:--:-- --:--:-- 37.3M\n"
          ],
          "name": "stdout"
        }
      ]
    },
    {
      "cell_type": "code",
      "metadata": {
        "id": "CkVBefMzquDv"
      },
      "source": [
        ""
      ],
      "execution_count": null,
      "outputs": []
    },
    {
      "cell_type": "code",
      "metadata": {
        "id": "nqB3qyV8qI2o",
        "colab": {
          "base_uri": "https://localhost:8080/"
        },
        "outputId": "23442cd2-124e-4330-d1ae-81856ea6163e"
      },
      "source": [
        "!ls -l\n"
      ],
      "execution_count": null,
      "outputs": [
        {
          "output_type": "stream",
          "text": [
            "total 10856\n",
            "-rw-r--r-- 1 root root 11110400 Nov 28 21:08 covid.db\n",
            "drwxr-xr-x 1 root root     4096 Nov 13 17:33 sample_data\n"
          ],
          "name": "stdout"
        }
      ]
    },
    {
      "cell_type": "code",
      "metadata": {
        "colab": {
          "base_uri": "https://localhost:8080/"
        },
        "id": "AtRIonLyXYEX",
        "outputId": "c1926d8b-3cbb-4433-8ea8-918048d6a446"
      },
      "source": [
        "#@title Conexión a base de datos (COVID)\n",
        "#@markdown Ejecutar para seguir con el tutorial\n",
        "import sqlite3\n",
        "cn = sqlite3.connect(\"covid.db\")\n",
        "cr = cn.cursor()\n",
        "print(\"Conexión establecida\")"
      ],
      "execution_count": null,
      "outputs": [
        {
          "output_type": "stream",
          "text": [
            "Conexión establecida\n"
          ],
          "name": "stdout"
        }
      ]
    },
    {
      "cell_type": "code",
      "metadata": {
        "cellView": "form",
        "id": "aLu4vXjNt1s5"
      },
      "source": [
        "#@title Creación del comando %%sql\n",
        "\n",
        "#@markdown Normalmente en las celdas escribes código Python, pero los códigos mágicos (%%comando) permiten usar otros lenguajes.\n",
        "\n",
        "#@markdown Aquí crearemos el comando **%%sql**, que te permitirá escribir comandos SQL directamente en las celdas siguientes, usando un formato como el del siguiente ejemplo:\n",
        "\n",
        "#@markdown ```%%sql```<br>\n",
        "#@markdown ```SELECT * FROM data LIMIT 10```\n",
        "\n",
        "from IPython.core.magic import (register_line_magic, register_cell_magic,\n",
        "                                register_line_cell_magic)\n",
        "import json\n",
        "import prettytable\n",
        "\n",
        "@register_cell_magic\n",
        "def sql(line, cell):\n",
        "    parametros = line.split(' ')\n",
        "\n",
        "    ## Habilito por defecto la visualización en bonito\n",
        "    ## Si quieres recuperar el conjunto de datos, hay que \n",
        "    ## poner 'datos' en la línea del comando mágico, como en\n",
        "    ##\n",
        "    ## %%sql datos\n",
        "\n",
        "    imprime = True\n",
        "    if 'datos' in parametros:\n",
        "      imprime = False\n",
        "    ## imprime = 'tabla' in parametros\n",
        "\n",
        "    ## Para alinear las celdas de la tabla a la izquierda\n",
        "    leftalign = 'lalign' in parametros\n",
        "    data = {}\n",
        "    \n",
        "    cr.execute(cell)\n",
        "    if cr:\n",
        "        if imprime:\n",
        "            x = prettytable.from_db_cursor(cr)\n",
        "            if leftalign:\n",
        "                for fld in x.field_names:\n",
        "                    x.align[fld] = 'l'\n",
        "            print(x)\n",
        "        else:\n",
        "            return cr.fetchall()"
      ],
      "execution_count": null,
      "outputs": []
    },
    {
      "cell_type": "markdown",
      "metadata": {
        "id": "nawiGHt03132"
      },
      "source": [
        "# Celda de prueba\n",
        "\n",
        " El resultado debe ser 256360, que son las filas que contiene la tabla."
      ]
    },
    {
      "cell_type": "code",
      "metadata": {
        "id": "6cPSlxig35kM"
      },
      "source": [
        "%%sql\n",
        "SELECT COUNT(*) FROM data"
      ],
      "execution_count": null,
      "outputs": []
    },
    {
      "cell_type": "markdown",
      "metadata": {
        "id": "PKTpE5H1GXTt"
      },
      "source": [
        "# Lo básico de las consultas SQL\n",
        "\n",
        "Una frase SQL tiene esta estructura básica:\n",
        "\n",
        "```\n",
        "SELECT (lista campos y expresiones)\n",
        "FROM (tabla o tablas)\n",
        "WHERE (expresión lógica)\n",
        "GROUP BY (lista campos y expresiones)\n",
        "HAVING (expresión lógica)\n",
        "ORDER BY (lista campos para la ordenación)\n",
        "```\n",
        "Cada uno de estos 6 elementos es una cláusula principal del lenguaje, que puede\n",
        "complicarse tanto como sea necesario, pero siempre conservando este orden. Las cláusulas ```WHERE```, ```GROUP BY```, ```HAVING``` y ```ORDER BY``` son opcionales.\n",
        "\n",
        "Es importante entender el orden en que un motor SQL ejecuta estas cláusulas, ya que no corresponde con el que aparece en la sintaxis. El verdadero orden de ejecución es el que sigue:\n",
        "\n",
        "* **FROM**: Lo primero es saber dónde están los datos.\n",
        "* **WHERE**: Decidir qué selección de filas necesitamos (opcional; puede que las queramos todas).\n",
        "* **GROUP BY**: Para un determinado tipo de consultas, lo que queremos es hacer montoncitos por categorías, para obtener datos para cada montoncito. Ya lo veremos, pero esta cláusula es la que hace esos montoncitos (opcional; las consultas normales no necesitan montoncitos).\n",
        "* **HAVING**: Si hemos hecho montoncitos, esta cláusula es un WHERE sobre cosas que hayamos calculado en esos montoncitos. Es opcional también.\n",
        "* **SELECT**: Esta cláusula es obligatoria. Aquí tendremos una lista de los campos o expresiones que vamos a devolver al usuario (que provienen de todo lo que hemos calculado previamente).\n",
        "* **ORDER BY**: Una última cosa opcional es ordenar la tabla de resultados de una u otra manera.\n",
        "\n",
        "Veremos las distintas cláusulas más adelante, pero primero vamos con una cosa importante que no se explica normalmente.\n",
        "\n"
      ]
    },
    {
      "cell_type": "markdown",
      "metadata": {
        "id": "a2Po77_Z71vm"
      },
      "source": [
        "# ¿Qué datos tiene mi tabla?\n",
        "\n",
        "Para hacer consultas a una base de datos, primero hay que saber de qué datos estamos hablando.\n",
        "\n",
        "Hay una serie de comandos SQL digamos *prospectivos* que permiten hacerse una idea del contenido de una tabla, el problema es que si aún no sabemos SQL no vamos a entenderlos completamente. Aún así, son tan útiles que los voy a explicar, y así vamos viendo qué datos tenemos para hacer nuestras pruebas (y, de paso, iremos aprendiendo SQL).\n",
        "\n"
      ]
    },
    {
      "cell_type": "markdown",
      "metadata": {
        "id": "1rIoR2lgB5A2"
      },
      "source": [
        "## ¿De cuántas filas hablamos?\n",
        "\n",
        "No es lo mismo una tabla con 100 filas que otra con 100.000.000. Si pedimos **todas** las filas de la tabla, en el segundo caso posiblemente no lleguemos a ver el resultado, porque el servidor se atascará.\n",
        "\n",
        "Así que la primera consulta que haremos será esta (que ya vimos antes):"
      ]
    },
    {
      "cell_type": "code",
      "metadata": {
        "id": "dzhbHmZouxwk"
      },
      "source": [
        "%%sql \n",
        "SELECT COUNT(*) \n",
        "FROM data"
      ],
      "execution_count": null,
      "outputs": []
    },
    {
      "cell_type": "markdown",
      "metadata": {
        "id": "ZE94Ni1k9c3y"
      },
      "source": [
        "### Explicación\n",
        "\n",
        "**FROM data** significa que seleccionamos la tabla **data** para nuestra consulta.\n",
        "\n",
        "**SELECT COUNT(*)** significa *'mira cuántas filas hay y me lo dices'*.\n",
        "\n",
        "**SELECT** es la cláusula de selección, donde podemos poner una lista de campos o expresiones que queremos obtener de la consulta.\n",
        "\n",
        "**COUNT(*)** es una función de agregación. Normalmente se usa con los montoncitos que genera la cláusula **GROUP BY**, pero si no tenemos esta cláusula, se entiende que el montoncito es único e incluye todas las filas de la tabla.\n",
        "\n",
        "El asterisco **(*)** viene a significar **TODAS** las filas, pero no vamos a profundizar más aquí. Baste decir que la función COUNT() puede contar de varias maneras distintas, pero la más corriente es esta. "
      ]
    },
    {
      "cell_type": "markdown",
      "metadata": {
        "id": "3QJm5MhgCBjr"
      },
      "source": [
        "## ¿Qué columnas contiene?\n",
        "\n",
        "Aquí se trata de saber tanto el nombre de las columnas como una muestra de su contenido. Para ello nos basta (en principio) una pequeña muestra. Vamos con el SQL:"
      ]
    },
    {
      "cell_type": "code",
      "metadata": {
        "id": "06yN-tttCjqA"
      },
      "source": [
        "%%sql\n",
        "\n",
        "SELECT * \n",
        "FROM data \n",
        "LIMIT 10"
      ],
      "execution_count": null,
      "outputs": []
    },
    {
      "cell_type": "markdown",
      "metadata": {
        "id": "skLijAAhC1hq"
      },
      "source": [
        "### Explicación\n",
        "\n",
        "Vamos a señalar solo las cláusulas que incluyan novedades:\n",
        "\n",
        "* **LIMIT 10**: esto significa que solo queremos recuperar 10 filas. Total, queremos una degustación, tan solo tener una idea de lo que hay. Esta es una cláusula que no pusimos entre las básicas, la razón es que no es un estándar, cada fabricante usa una sintaxis. Esta es la que usa **sqlite**, la base de datos que estoy usando para este cuaderno. En el **SQL Server de Microsoft**, el comando sería ```SELECT TOP 10 ...```. No sé ahora si otros fabricantes tienen otras sintaxis para esto.\n",
        "\n",
        "* **SELECT ***: El asterisco aquí significa *'enséñame todas las columnas que haya en la tabla'*. Esta es la sintaxis más común para la cláusula **SELECT**. De hecho, la versión equivalente sería:\n",
        "\n",
        "```\n",
        "SELECT TipusCasData, ComarcaCodi, MunicipiCodi, \n",
        "       SexeCodi, TipusCasDescripcio, NumCasos\n",
        "FROM data\n",
        "LIMIT 10\n",
        "```\n",
        "\n",
        "lo que pone en evidencia el ahorro que conlleva usar el asterisco."
      ]
    },
    {
      "cell_type": "markdown",
      "metadata": {
        "id": "1dc_sIsrEqFz"
      },
      "source": [
        "## ¿Qué contiene cada columna?\n",
        "\n",
        "Esta tabla tiene la mayoría de sus campos codificados, así que es difícil a simple vista saber qué significa su contenido. Sin embargo, la cuestión es importante para entender los datos, así que tenemos que investigar un poco las columnas en concreto.\n",
        "\n",
        "De la muestra anterior, ya vemos que *TipusCasData* parece contener fechas: una primera prospección sería saber de qué rango de fechas hablamos, es decir, cuál es la mayor y cuál la menor. Para ello, tenemos las funciones de agregación **MIN(*campo*)** y **MAX(*campo*)**.\n",
        "\n",
        "Mira de construir la consulta correspondiente..."
      ]
    },
    {
      "cell_type": "code",
      "metadata": {
        "id": "f-zQKKzhF0hR"
      },
      "source": [
        "%%sql\n",
        "\n",
        "SELECT <rellena esto!>\n",
        "FROM data"
      ],
      "execution_count": null,
      "outputs": []
    },
    {
      "cell_type": "markdown",
      "metadata": {
        "id": "BUtvlS-0GDFz"
      },
      "source": [
        "### Solución"
      ]
    },
    {
      "cell_type": "code",
      "metadata": {
        "id": "Nt-dVZ-OGGrm"
      },
      "source": [
        "%%sql\n",
        "\n",
        "SELECT MIN(TipusCasData), MAX(TipusCasData)\n",
        "FROM data"
      ],
      "execution_count": null,
      "outputs": []
    },
    {
      "cell_type": "markdown",
      "metadata": {
        "id": "McASYQeTGUDL"
      },
      "source": [
        "#### Explicación\n",
        "\n",
        "Ya sabemos algo importante de nuestra tabla: que contiene datos que van desde febrero hasta noviembre.\n",
        "\n",
        "Las funciones **MIN(), MAX()** son funciones de agregado, como **COUNT()** y, por tanto, funcionarían con los montoncitos generados por la cláusula **GROUP BY**, si existiera. Como dijimos, si no existe el motor de la base de datos entiende que toda la tabla es un mismo montoncito.\n",
        "\n",
        "Por esa misma razón, en esta consulta solo sale una fila de resultados: solo tenemos un montoncito, así que solo puede haber un valor máximo y mínimo del conjunto completo."
      ]
    },
    {
      "cell_type": "markdown",
      "metadata": {
        "id": "AUxoDQapHk0n"
      },
      "source": [
        "## ¿Cuántos valores distintos tiene una columna?\n",
        "\n",
        "Las columnas pueden contener datos muy variados. \n",
        "\n",
        "Puedes tener un mismo valor que se repite a menudo en las distintas filas (como, por ejemplo, el código de comarca), o puede ser que sea muy variado, como las cantidades de cada producto en un almacén.\n",
        "\n",
        "Por tanto, nos interesa distinguir los campos de código de los que contienen solo datos. Ya sabemos que tenemos más de 200.000 filas, ahora querríamos saber cuántos valores distintos tiene cada columna (al menos, en aquellas columnas que nos parecen mejores candidatas a ser columnas de códigos o *dimensiones*, como las llaman a veces).\n",
        "\n",
        "Veamos la consulta para esto (puedes probar a ejecutar con distintos campos y ver qué valores obtienes):"
      ]
    },
    {
      "cell_type": "code",
      "metadata": {
        "id": "gp6ZvEibHvas"
      },
      "source": [
        "%%sql\n",
        "\n",
        "SELECT COUNT(DISTINCT sexeCodi)\n",
        "FROM data"
      ],
      "execution_count": null,
      "outputs": []
    },
    {
      "cell_type": "markdown",
      "metadata": {
        "id": "nsqLxVyEJeBI"
      },
      "source": [
        "### Explicación\n",
        "\n",
        "**COUNT(DISTINCT expresion)**: Esta es una de las variaciones que tiene la función **COUNT()**. Lo que significa el **DISTINCT** es *'calcula para cada fila la expresión dada, y cuenta cuántos valores distintos se obtienen'*. *Expresion* a menudo es el nombre de la columna, pero podría ser cualquier expresión más complicada (por ejemplo, contar cuántos valores de la columna X empiezan por la misma letra)."
      ]
    },
    {
      "cell_type": "markdown",
      "metadata": {
        "id": "Jz8YadacKxgZ"
      },
      "source": [
        "## ¿Y qué valores en concreto tiene una columna?\n",
        "\n",
        "Para aquellas columnas con pinta de códigos, podemos obtener una lista de valores de una forma muy simple. Tomemos, por ejempo, la columna *TipusCasDescripcio*, un caso interesante porque tiene pocos valores y, además, no vienen codificados."
      ]
    },
    {
      "cell_type": "code",
      "metadata": {
        "id": "QLTyFyuZLYKQ"
      },
      "source": [
        "%%sql lalign  ## lalign no es más que un indicador para que alinee los resultados a la izquierda\n",
        "\n",
        "SELECT DISTINCT TipusCasDescripcio\n",
        "FROM data\n",
        "LIMIT 100"
      ],
      "execution_count": null,
      "outputs": []
    },
    {
      "cell_type": "markdown",
      "metadata": {
        "id": "pXk3zaoZL0X8"
      },
      "source": [
        "### Explicación\n",
        "\n",
        "* **SELECT DISTINCT**: Devuelve la colección de filas encontradas, pero descartando las que sean iguales. En las columnas que corresponden a dimensiones, estos valores son limitados, así que podemos hacer un **SELECT** sin miedo a devolver miles de filas. Sin embargo, siempre que hacemos prospección es bueno cubrirse con una cláusula **LIMIT n** por si las moscas."
      ]
    },
    {
      "cell_type": "markdown",
      "metadata": {
        "id": "Te5ZvmNvMu-Z"
      },
      "source": [
        "# Otras tablas\n",
        "\n",
        "Hemos visto que tenemos columnas con códigos (que no sabemos en principio qué significan) y otra (*TipusCasDescripcio*) que viene con códigos legibles.\n",
        "\n",
        "En una base de datos suele hacerse un proceso que se llama normalización, y que consiste en crear tablas con los códigos y descripciones correspondientes a una columna de la tabla principal, donde solo vienen los códigos. El SQL permite hacer una consulta que combine los datos de todas esas tablas.\n",
        "\n",
        "Pero primero hay que saber qué tablas son. "
      ]
    },
    {
      "cell_type": "code",
      "metadata": {
        "id": "diNBUJwzNp-r"
      },
      "source": [
        "%%sql \n",
        "\n",
        "SELECT name\n",
        "FROM sqlite_master \n",
        "WHERE type = 'table' AND name != 'data'"
      ],
      "execution_count": null,
      "outputs": []
    },
    {
      "cell_type": "markdown",
      "metadata": {
        "id": "gys7Q4RtOWUZ"
      },
      "source": [
        "### Explicación\n",
        "\n",
        "* **WHERE ... name != 'data'**: comento esto - se trata de que nos muestre todas las tablas menos la que se llama *data*, que ya sabemos que es la principal, con la que hemos estado trabajando hasta ahora. Puedes jugar a cambiar cosas en la consulta para ver qué otras cosas hay en esta tabla de sistema\n",
        "\n",
        "#### Tablas de sistema\n",
        "\n",
        "Todo sistema de base de datos guarda información sobre sí misma en tablas que es posible consultar. El único problema es que esas tablas de sistema no están estandarizadas, de modo que cada fabricante las implementa según su criterio.\n",
        "\n",
        "En el caso de *Sqlite*, tenemos la tabla **sqlite_master**, que hemos usado aquí.\n",
        "\n",
        "Para *Oracle*, tenemos **all_tables** y **user_tables**, entre otras.\n",
        "\n",
        "En *SQL Server*, está **SYSOBJECTS**.\n",
        "\n",
        "En fin, que hay que estudiar cada caso por separado para saber dónde están los metadatos de cada sistema.\n"
      ]
    },
    {
      "cell_type": "markdown",
      "metadata": {
        "id": "FWytR6RmQrR6"
      },
      "source": [
        "### Inspección de tablas asociadas\n",
        "\n",
        "Ahora puedes dedicar un momento a consultar el contenido de estas tablas. Ten cuidado de ver el número de filas primero, o de mantener una cláusula **LIMIT** para más seguridad."
      ]
    },
    {
      "cell_type": "code",
      "metadata": {
        "id": "u0l7XriuRAb6"
      },
      "source": [
        "%%sql lalign\n",
        "\n",
        "SELECT * \n",
        "FROM Municipis\n",
        "LIMIT 100"
      ],
      "execution_count": null,
      "outputs": []
    },
    {
      "cell_type": "markdown",
      "metadata": {
        "id": "jwWRdrhDSvsS"
      },
      "source": [
        "# Usar vistas en SQL\n",
        "\n",
        "Tener una base de datos normalizada tiene muchas ventajas: se evita repetir información, se reduce el tamaño y se evita que haya información defectuosa (nadie escribirá *Barcelona* en un sitio y *Bcn* en otro, por ejemplo). Sin embargo, tiene un inconveniente serio, y es que las consultas se complicarán, si queremos sacar información legible.\n",
        "\n",
        "Para ello, SQL permite combinar tablas, algo que veremos más adelante. Lo que veremos ahora es que esas consultas complejas se pueden guardar dándoles un nombre y usarlas como si fueran tablas, lo que es especialmente conveniente. En este caso, tenemos una tabla llamada **vista** que nos ahorrará (por ahora) el tener que saber cómo se combinan las distintas tablas. El resultado:"
      ]
    },
    {
      "cell_type": "code",
      "metadata": {
        "id": "KW14qAzyU3nI"
      },
      "source": [
        "%%sql\n",
        "SELECT *\n",
        "FROM vista\n",
        "LIMIT 10"
      ],
      "execution_count": null,
      "outputs": []
    },
    {
      "cell_type": "markdown",
      "metadata": {
        "id": "nKIFGSuvVSlL"
      },
      "source": [
        "# Las cláusulas SQL en detalle\n",
        "\n",
        "Veremos ahora las cláusulas SQL, en el orden en que las usa el motor de cualquier base de datos, mirando sus variaciones."
      ]
    },
    {
      "cell_type": "markdown",
      "metadata": {
        "id": "vRzd7WjDWj0i"
      },
      "source": [
        "## Cláusula FROM\n",
        "\n",
        "**FROM tabla**: esta cláusula, como dijimos, es la que inicia la consulta. Su función es seleccionar la tabla (o conjuntos de tablas) de las que vamos a sacar los datos.\n",
        "\n",
        "La verdadera complejidad de esta cláusula aparecerá cuando se combinen varias tablas, cosa que no vamos a hacer todavía.\n",
        "\n",
        "De momento nos basta con saber que es el primer paso que hace el motor de datos al ejecutar una consulta SQL: seleccionar la fuente de los datos.\n",
        "\n"
      ]
    },
    {
      "cell_type": "markdown",
      "metadata": {
        "id": "BE_OwFMesXgH"
      },
      "source": [
        "## Cláusula WHERE\n",
        "\n",
        "**WHERE (expresion lógica)**: la cláusula **WHERE** se ejecuta para cada fila de la tabla seleccionada con **FROM**. La *expresión lógica* puede ser una combinación de operaciones que usualmente combina datos de los campos y devuelve un valor **Verdadero** o **Falso**, en función del cual la fila pasará (o no) este primer filtro de la consulta.\n",
        "\n",
        "### Ejemplos de expresiones lógicas\n",
        "\n",
        "#### Operadores de comparación y lógicos\n",
        "\n",
        "Los típicos operadores que tenemos en matemáticas: &lt;, &gt; =, != (distinto), y los lógicos, que en SQL son **AND, OR y NOT**.\n",
        "* **numCasos >= 100**: deja pasar las filas que tengan más de 100 en el campo *NumCasos*.\n",
        "* **numCasos >= 100 AND SexeDescripcio = 'Home'**: deja pasar las filas que cumplan lad dos condiciones: que tengan más de 100 en el campo *NumCasos* y ek valor 'Home' en el campo *SexeDescripció'.\n",
        "* **TipusCasDescripció = 'Sospitós'**: pasan solo las filas que tengan el valor *'Sospitós'* en el campo *TipusCasDescripció*.\n",
        "\n",
        "#### BETWEEN: operador de rango\n",
        "\n",
        "Sirve para filtrar valores que estén entre un valor mínimo y máximo.\n",
        "* **TipusCasData BETWEEN '2020-10-01' AND '2020-11-01'**: recupera sólo las filas del mes de noviembre.\n",
        "\n",
        "#### LIKE: operador de comparación\n",
        "\n",
        "El operador **LIKE** compara el valor de texto de un campo con una determinada plantilla. Los caracteres '%' y '_' se usan como comodines:\n",
        "* **%** representa a un número variable de caracteres\n",
        "* **_** representa a un solo carácter\n",
        "\n",
        "Así, por ejemplo:\n",
        "* **ComarcaDescripcio LIKE 'S%'**: recupera las filas cuya *'ComarcaDescripcio'* empieza por 'S'.\n",
        "* **ComarcaDescripcio LIKE '%x%'**: filas que contengan el carácter *'x'* en el campo *'ComarcaDescripcio'*.\n",
        "\n"
      ]
    },
    {
      "cell_type": "code",
      "metadata": {
        "id": "Xzl9s56qYbj8"
      },
      "source": [
        "%%sql\n",
        "\n",
        "SELECT *\n",
        "FROM Comarcas\n",
        "WHERE ComarcaDescripcio LIKE '%x%'\n",
        "LIMIT 10;\n"
      ],
      "execution_count": null,
      "outputs": []
    },
    {
      "cell_type": "markdown",
      "metadata": {
        "id": "5LMss9KVyfXE"
      },
      "source": [
        "### Ejemplo WHERE\n",
        "\n",
        "Seleccionar las filas que contengan más de 500 casos de *'Positiu PCR'* durante Octubre."
      ]
    },
    {
      "cell_type": "code",
      "metadata": {
        "id": "smwIUYxo1LI0"
      },
      "source": [
        "%%sql\n",
        "\n",
        "SELECT *\n",
        "FROM vista\n",
        "WHERE (tu condición lógica aquí)"
      ],
      "execution_count": null,
      "outputs": []
    },
    {
      "cell_type": "markdown",
      "metadata": {
        "id": "7Bc00Rkv1Zs6"
      },
      "source": [
        "### Solución"
      ]
    },
    {
      "cell_type": "code",
      "metadata": {
        "colab": {
          "base_uri": "https://localhost:8080/"
        },
        "id": "E_owJvdtYtZn",
        "outputId": "1de19d4d-1642-4b8b-e170-d1fa4d33ca70"
      },
      "source": [
        "%%sql\n",
        "\n",
        "SELECT * \n",
        "FROM vista\n",
        "WHERE NumCasos > 500 \n",
        "      AND \n",
        "      TipusCasDescripcio = 'Positiu PCR' \n",
        "      AND \n",
        "      TipusCasData BETWEEN '2020-10-01' AND '2020-11-01'\n",
        "LIMIT 50;"
      ],
      "execution_count": null,
      "outputs": [
        {
          "output_type": "stream",
          "text": [
            "+--------------+-------------+-------------------+--------------+--------------------+----------+----------------+--------------------+----------+\n",
            "| TipusCasData | ComarcaCodi | ComarcaDescripcio | MunicipiCodi | MunicipiDescripcio | SexeCodi | SexeDescripcio | TipusCasDescripcio | NumCasos |\n",
            "+--------------+-------------+-------------------+--------------+--------------------+----------+----------------+--------------------+----------+\n",
            "|  2020-10-30  |      13     |     Barcelonès    |    08019     |     Barcelona      |    1     |      Dona      |    Positiu PCR     |   605    |\n",
            "|  2020-10-29  |      13     |     Barcelonès    |    08019     |     Barcelona      |    1     |      Dona      |    Positiu PCR     |   509    |\n",
            "|  2020-10-28  |      13     |     Barcelonès    |    08019     |     Barcelona      |    1     |      Dona      |    Positiu PCR     |   609    |\n",
            "|  2020-10-28  |      13     |     Barcelonès    |    08019     |     Barcelona      |    0     |      Home      |    Positiu PCR     |   544    |\n",
            "|  2020-10-27  |      13     |     Barcelonès    |    08019     |     Barcelona      |    1     |      Dona      |    Positiu PCR     |   677    |\n",
            "|  2020-10-27  |      13     |     Barcelonès    |    08019     |     Barcelona      |    0     |      Home      |    Positiu PCR     |   601    |\n",
            "|  2020-10-26  |      13     |     Barcelonès    |    08019     |     Barcelona      |    1     |      Dona      |    Positiu PCR     |   545    |\n",
            "|  2020-10-23  |      13     |     Barcelonès    |    08019     |     Barcelona      |    0     |      Home      |    Positiu PCR     |   586    |\n",
            "|  2020-10-23  |      13     |     Barcelonès    |    08019     |     Barcelona      |    1     |      Dona      |    Positiu PCR     |   659    |\n",
            "|  2020-10-22  |      13     |     Barcelonès    |    08019     |     Barcelona      |    0     |      Home      |    Positiu PCR     |   582    |\n",
            "|  2020-10-22  |      13     |     Barcelonès    |    08019     |     Barcelona      |    1     |      Dona      |    Positiu PCR     |   725    |\n",
            "|  2020-10-21  |      13     |     Barcelonès    |    08019     |     Barcelona      |    1     |      Dona      |    Positiu PCR     |   760    |\n",
            "|  2020-10-21  |      13     |     Barcelonès    |    08019     |     Barcelona      |    0     |      Home      |    Positiu PCR     |   650    |\n",
            "|  2020-10-20  |      13     |     Barcelonès    |    08019     |     Barcelona      |    0     |      Home      |    Positiu PCR     |   530    |\n",
            "|  2020-10-20  |      13     |     Barcelonès    |    08019     |     Barcelona      |    1     |      Dona      |    Positiu PCR     |   567    |\n",
            "|  2020-10-16  |      13     |     Barcelonès    |    08019     |     Barcelona      |    1     |      Dona      |    Positiu PCR     |   515    |\n",
            "|  2020-10-15  |      13     |     Barcelonès    |    08019     |     Barcelona      |    1     |      Dona      |    Positiu PCR     |   544    |\n",
            "+--------------+-------------+-------------------+--------------+--------------------+----------+----------------+--------------------+----------+\n"
          ],
          "name": "stdout"
        }
      ]
    },
    {
      "cell_type": "markdown",
      "metadata": {
        "id": "4fdZIrVP2gOK"
      },
      "source": [
        "## Cláusula SELECT\n",
        "\n",
        "Dejaremos las cláusulas **GROUP BY** y **HAVING** para más adelante, ya que pertenecen a una clase diferente de consulta SQL respecto de las que hemos visto hasta ahora. Hay dos tipos de consultas SQL:\n",
        "\n",
        "* **Consultas de detalle**: se devuelven todas o parte de las filas originales, ya sean las columnas existentes u otras calculadas *ad hoc*.\n",
        "* **Consultas de agregación**: se devuelven filas con datos sumarizados, es decir, correspondientes a los distintos grupos creados a partir de las filas originales.\n",
        "\n",
        "La cláusula **SELECT** se usa para definir qué columnas queremos ver en el resultado final. Tenemos varias opciones:\n",
        "\n",
        "* **SELECT * ...**: El asterisco es una abreviatura para representar TODOS los campos de la tabla.\n",
        "\n",
        "* **SELECT TipusCasData, ComarcaCodi, ...**: enumeración de campos, separados por comas. Además de los campos, podemos añadir expresiones, como veremos en los ejemplos.\n",
        "\n"
      ]
    },
    {
      "cell_type": "markdown",
      "metadata": {
        "id": "tVU_xomhvX-o"
      },
      "source": [
        "### Ejemplo 1: Todos los campos (vía *)"
      ]
    },
    {
      "cell_type": "code",
      "metadata": {
        "id": "HbrnLGmJu6Iq"
      },
      "source": [
        "%%sql\n",
        "SELECT * \n",
        "FROM vista \n",
        "LIMIT 10"
      ],
      "execution_count": null,
      "outputs": []
    },
    {
      "cell_type": "markdown",
      "metadata": {
        "id": "zHt8dOLFvlQ1"
      },
      "source": [
        "### Ejemplo 2: Una selección de campos"
      ]
    },
    {
      "cell_type": "code",
      "metadata": {
        "id": "zSPNpK_GvvJM"
      },
      "source": [
        "%%sql\n",
        "SELECT TipusCasData, ComarcaDescripcio, MunicipiDescripcio, SexeDescripcio, TipusCasDescripcio, NumCasos\n",
        "FROM vista\n",
        "LIMIT 10"
      ],
      "execution_count": null,
      "outputs": []
    },
    {
      "cell_type": "markdown",
      "metadata": {
        "id": "FtQmP75KwcZ1"
      },
      "source": [
        "#### Alias para los campos\n",
        "\n",
        "Puede ser interesante cambiar los encabezados de las columnas, ya sea para dar un nombre más amistoso o más breve. Esto es lo que llamamos *dar un ALIAS a una columna*."
      ]
    },
    {
      "cell_type": "code",
      "metadata": {
        "id": "E6NHva2OxZAi"
      },
      "source": [
        "%%sql\n",
        "SELECT TipusCasData AS Fecha, \n",
        "       ComarcaDescripcio AS Comarca, \n",
        "       MunicipiDescripcio AS Municipi, \n",
        "       SexeDescripcio AS Sexe, \n",
        "       TipusCasDescripcio AS \"Tipo de caso\", \n",
        "       NumCasos AS \"Num. casos\"\n",
        "FROM vista\n",
        "LIMIT 10"
      ],
      "execution_count": null,
      "outputs": []
    },
    {
      "cell_type": "markdown",
      "metadata": {
        "id": "C98gRxN7x9uI"
      },
      "source": [
        "### Ejemplo 3: expresiones\n",
        "\n",
        "Todos los Sistemas de Gestión de Bases de Datos (**SGBD**) tienen una colección de funciones internas disponibles para la manipulación de los datos. En el caso de **Sqlite**, puedes ver la documentación [aquí](https://sqlite.org/lang_corefunc.html).\n",
        "\n",
        "En el ejemplo cabe destacar el ejemplo de manipulación de fechas (descrito [aquí](https://sqlite.org/lang_datefunc.html)).\n",
        "\n",
        "También ves el operador **||**, que sirve para concatenar cadenas."
      ]
    },
    {
      "cell_type": "code",
      "metadata": {
        "id": "2NLrzC-TyYEN"
      },
      "source": [
        "%%sql lalign\n",
        "SELECT \n",
        "       RANDOM(), -- Un número aleatorio\n",
        "       STRFTIME('Día: %d, Mes: %m, año: %Y', TipusCasData) AS Fecha,\n",
        "       DATE(TipusCasData, 'start of month','+1 month','-1 day') AS \"Último día mes\",\n",
        "       MunicipiDescripcio  || ' (' || ComarcaDescripcio || ')' AS \"Municipio (Comarca)\",\n",
        "       UPPER(TipusCasDescripcio) AS \"Tipo (may.)\"\n",
        "FROM vista\n",
        "LIMIT 10"
      ],
      "execution_count": null,
      "outputs": []
    },
    {
      "cell_type": "markdown",
      "metadata": {
        "id": "M_M4DAfE0yF-"
      },
      "source": [
        "## Cláusula ORDER BY\n",
        "\n",
        "La cláusula **ORDER BY** es la última de una consulta SQL. \n",
        "\n",
        "Cuando llegas a este punto, el SGBD ha hecho todo esto:\n",
        "\n",
        "* Seleccionar una tabla (cláusula **FROM**)\n",
        "* Filtrar las filas deseadas (cláusula **WHERE**)\n",
        "* Elegir las columnas deseadas (cláusula **SELECT**). Estas columnas pueden ser campos de la tabla o expresiones calculadas.\n",
        "\n",
        "Lo único que queda es ordenar las filas del resultado, y de eso se ocupa la cláusula **ORDER BY**. En esta cláusula puede especificarse si se quiere el orden ascendente (**ASC**) o descendente (**DESC**). Si no ponemos nada, se sobreentiende orden ascendente.\n",
        "\n",
        "Una singularidad de esta cláusula es que admite tres formas de referirse a los campos del **SELECT** que usaremos para la ordenación:\n",
        "\n",
        "* **ORDER BY posicion ASC**: posición es un número que representa la posición de la expresión que se usará para ordenar.\n",
        "* **ORDER BY expresion DESC**: podemos usar también la misma expresión que aparece en el **SELECT**.\n",
        "* **ORDER BY alias1, alias2 DESC**: el alias que le hemos dado a la expresión también sirve para la ordenación.\n",
        "\n",
        "Un error común es usar el alias de una columna en las cláusulas **WHERE**, **GROUP BY** y **HAVING**. En esas cláusulas, solo valen los nombres de los campos o expresiones combinadas de esos campos.\n",
        "\n",
        "En el ejemplo que sigue se usan indistintamente las tres formas de referirse a los campos de ordenación (en una consulta que no tiene demasiado sentido)."
      ]
    },
    {
      "cell_type": "code",
      "metadata": {
        "id": "oLF32o-658SB"
      },
      "source": [
        "%%sql lalign\n",
        "SELECT DISTINCT TipusCasDescripcio, ComarcaDescripcio AS Comarca, NumCasos\n",
        "FROM vista\n",
        "ORDER BY 1, Comarca DESC, NumCasos ASC\n",
        "LIMIT 100"
      ],
      "execution_count": null,
      "outputs": []
    },
    {
      "cell_type": "markdown",
      "metadata": {
        "id": "mxrGOBJw_Qem"
      },
      "source": [
        "# Consultas agregadas\n",
        "\n",
        "El SQL se vuelve interesante cuando empezamos a sumarizar los datos. Por ejemplo, calcular el total de casos para cada comarca, o los casos totales por mes. Para ello necesitamos la cláusula **GROUP BY**, que nos ayuda a hacer los montoncitos de filas sobre los que aplicaremos las distintas funciones agregadas que tenemos a nuestro alcance (**COUNT(), MAX(), MIN(), SUM() y AVG()**, entre otras)\n",
        "\n",
        "La mecánica de agrupar filas implica que, de los campos que teníamos en la tabla original, solo nos quedan disponibles los que hayamos usado para agrupar; los demás se pierden en el montoncito de filas. Por ello, en una consulta agregada solo pueden aparecer los campos que aparecen en la cláusula **GROUP BY** (los que causan la agregación) y las funciones agregadas que hemos mencionado antes."
      ]
    },
    {
      "cell_type": "markdown",
      "metadata": {
        "id": "cPHApVLpCX9I"
      },
      "source": [
        "## Cláusula GROUP BY\n",
        "\n",
        "* **GROUP BY expresion1, expresion2, ...**: *expresion1* puede ser una expresión calculada o un campo. Pueden haber varias de estas expresiones, cada una de las cuales es una subdivisión adicional "
      ]
    },
    {
      "cell_type": "markdown",
      "metadata": {
        "id": "g2knQwv6JsRC"
      },
      "source": [
        "### Ejemplo 1 - Una sola agrupación\n",
        "\n",
        "En este caso, agrupamos todas las filas por comarcas, y una vez hechos los montoncitos, calculamos:\n",
        "\n",
        "1. El número de filas de cada montoncito (**COUNT(*)**)\n",
        "2. El total de NumCasos para cada montoncito (**SUM(NumCasos)**)"
      ]
    },
    {
      "cell_type": "code",
      "metadata": {
        "id": "_3f3rFnZ_b5u",
        "colab": {
          "base_uri": "https://localhost:8080/"
        },
        "outputId": "f49c4d56-2bfd-4f58-aa0a-3d69d1af30b5"
      },
      "source": [
        "%%sql\n",
        "SELECT ComarcaDescripcio, COUNT(*), SUM(NumCasos)\n",
        "FROM vista\n",
        "GROUP BY ComarcaDescripcio\n",
        "ORDER BY Sum(NumCasos) DESC\n",
        "LIMIT 10"
      ],
      "execution_count": null,
      "outputs": [
        {
          "output_type": "stream",
          "text": [
            "+-------------------+----------+----------+---------------+\n",
            "| ComarcaDescripcio | SexeCodi | COUNT(*) | SUM(NumCasos) |\n",
            "+-------------------+----------+----------+---------------+\n",
            "|     Barcelonès    |    1     |   7772   |     687038    |\n",
            "| Vallès Occidental |    1     |  17489   |     294566    |\n",
            "|   Baix Llobregat  |    1     |  23799   |     246351    |\n",
            "|  Vallès Oriental  |    0     |  20201   |     136711    |\n",
            "|      Maresme      |    0     |  17940   |     129250    |\n",
            "|      Gironès      |    0     |   8979   |     64863     |\n",
            "|       Segrià      |    0     |  10088   |     63349     |\n",
            "|     Tarragonès    |    0     |   8588   |     62151     |\n",
            "|       Bages       |    0     |  11020   |     56034     |\n",
            "|     Baix Camp     |    0     |   6617   |     55749     |\n",
            "+-------------------+----------+----------+---------------+\n"
          ],
          "name": "stdout"
        }
      ]
    },
    {
      "cell_type": "markdown",
      "metadata": {
        "id": "kVMFjDHqKn6z"
      },
      "source": [
        "#### Problema\n",
        "\n",
        "¿Qué pasa si agregas otro campo al **SELECT**?"
      ]
    },
    {
      "cell_type": "markdown",
      "metadata": {
        "id": "oKze0d5MMCsI"
      },
      "source": [
        "##### Respuesta\n",
        "\n",
        "En realidad, SQL debería dar un error en este caso. Sin embargo, si pruebas, parece que *Sqlite* opta por darte un valor cualquiera (no he parado a mirar con qué criterio).\n",
        "\n",
        "Con este criterio, sería correcto poner el campo ComarcaCodi, porque una vez agrupadas por Comarcas, todas las filas comparten también el código de comarca. Pero no es el caso general, y llama a engaño. En mi opinión, sería mejor que devolviera un error de sintaxis.\n",
        "\n",
        "Esto pasa a veces con los **SGBD**, que en teoría se acogen a estándar pero a veces hacen cosas por libre. Hay que tener en cuenta estas cosas. La teoría dice que en un montoncito solo tenemos claro que todas las filas tendrán el mismo valor para la expresión que hemos usado al hacer las particiones."
      ]
    },
    {
      "cell_type": "markdown",
      "metadata": {
        "id": "uUZJ0VB0KVkh"
      },
      "source": [
        "### Ejemplo 2 - Dos agrupaciones\n",
        "\n",
        "Si agrupamos las filas primero por Comarca y luego por Municipio, tendremos más granularidad en los resultados. Fíjate que ahora Municipio sí que puede aparecer en el **SELECT** sin causar errores: de cada submontoncito sabemos el valor de Municipio, igual que sabemos la Comarca"
      ]
    },
    {
      "cell_type": "code",
      "metadata": {
        "id": "-lilKCOQLXHH",
        "colab": {
          "base_uri": "https://localhost:8080/"
        },
        "outputId": "7f2b098c-565f-45e3-f8ba-91b8f04f4d76"
      },
      "source": [
        "%%sql\n",
        "SELECT ComarcaDescripcio, ComarcaCodi, MunicipiDescripcio, COUNT(*), SUM(NumCasos)\n",
        "FROM vista\n",
        "GROUP BY ComarcaDescripcio\n",
        "ORDER BY Sum(NumCasos) DESC\n",
        "LIMIT 10"
      ],
      "execution_count": null,
      "outputs": [
        {
          "output_type": "stream",
          "text": [
            "+-------------------+-----------------------+----------+---------------+\n",
            "| ComarcaDescripcio |   MunicipiDescripcio  | COUNT(*) | SUM(NumCasos) |\n",
            "+-------------------+-----------------------+----------+---------------+\n",
            "|     Barcelonès    |       Barcelona       |   7772   |     687038    |\n",
            "| Vallès Occidental | Cerdanyola del Vallès |  17489   |     294566    |\n",
            "|   Baix Llobregat  |  El Prat de Llobregat |  23799   |     246351    |\n",
            "|  Vallès Oriental  |       Granollers      |  20201   |     136711    |\n",
            "|      Maresme      |       El Masnou       |  17940   |     129250    |\n",
            "|      Gironès      |         Celrà         |   8979   |     64863     |\n",
            "|       Segrià      |         Maials        |  10088   |     63349     |\n",
            "|     Tarragonès    |       Tarragona       |   8588   |     62151     |\n",
            "|       Bages       |        Manresa        |  11020   |     56034     |\n",
            "|     Baix Camp     |          Reus         |   6617   |     55749     |\n",
            "+-------------------+-----------------------+----------+---------------+\n"
          ],
          "name": "stdout"
        }
      ]
    },
    {
      "cell_type": "code",
      "metadata": {
        "id": "pIzab-qpLjvi",
        "colab": {
          "base_uri": "https://localhost:8080/"
        },
        "outputId": "9bfed18a-cbac-4440-9c51-27546f6241da"
      },
      "source": [
        "%%sql\n",
        "SELECT ComarcaDescripcio, MunicipiDescripcio, COUNT(*), SUM(NumCasos)\n",
        "FROM vista\n",
        "GROUP BY ComarcaDescripcio, MunicipiDescripcio\n",
        "ORDER BY 1 DESC, 2\n",
        "LIMIT 10"
      ],
      "execution_count": null,
      "outputs": [
        {
          "output_type": "stream",
          "text": [
            "+-------------------+--------------------+----------+---------------+\n",
            "| ComarcaDescripcio | MunicipiDescripcio | COUNT(*) | SUM(NumCasos) |\n",
            "+-------------------+--------------------+----------+---------------+\n",
            "|  Vallès Oriental  |     Aiguafreda     |   339    |      711      |\n",
            "|  Vallès Oriental  |  Bigues i Riells   |   575    |      2361     |\n",
            "|  Vallès Oriental  | Caldes de Montbui  |   727    |      4306     |\n",
            "|  Vallès Oriental  |      Campins       |   100    |      127      |\n",
            "|  Vallès Oriental  |     Canovelles     |   778    |      8282     |\n",
            "|  Vallès Oriental  |      Cardedeu      |   727    |      5209     |\n",
            "|  Vallès Oriental  | Cànoves i Samalús  |   361    |      715      |\n",
            "|  Vallès Oriental  |  Figaró-Montmany   |   212    |      370      |\n",
            "|  Vallès Oriental  | Fogars de Montclús |    58    |       64      |\n",
            "|  Vallès Oriental  |     Granollers     |   1018   |     24053     |\n",
            "+-------------------+--------------------+----------+---------------+\n"
          ],
          "name": "stdout"
        }
      ]
    },
    {
      "cell_type": "code",
      "metadata": {
        "id": "QIRQ0mhxK3Bp",
        "colab": {
          "base_uri": "https://localhost:8080/"
        },
        "outputId": "38991d2c-9a5b-4bb7-8dde-b6309b8ab8d5"
      },
      "source": [
        "%%sql\n",
        "SELECT * FROM vista LIMIT 10"
      ],
      "execution_count": null,
      "outputs": [
        {
          "output_type": "stream",
          "text": [
            "+--------------+-------------+-------------------+--------------+--------------------------+----------+----------------+--------------------+----------+\n",
            "| TipusCasData | ComarcaCodi | ComarcaDescripcio | MunicipiCodi |    MunicipiDescripcio    | SexeCodi | SexeDescripcio | TipusCasDescripcio | NumCasos |\n",
            "+--------------+-------------+-------------------+--------------+--------------------------+----------+----------------+--------------------+----------+\n",
            "|  2020-11-27  |      19     |      Garrotxa     |    17114     |           Olot           |    0     |      Home      |      Sospitós      |   135    |\n",
            "|  2020-11-27  |      09     |     Baix Ebre     |    43104     |        El Perelló        |    1     |      Dona      |      Sospitós      |    1     |\n",
            "|  2020-11-27  |      03     |    Alt Penedès    |    08013     |  Avinyonet del Penedès   |    0     |      Home      |      Sospitós      |    1     |\n",
            "|  2020-11-27  |      07     |       Bages       |    08218     | Sant Joan de Vilatorrada |    0     |      Home      |      Sospitós      |    2     |\n",
            "|  2020-11-27  |      18     |     Garrigues     |    25058     |   Les Borges Blanques    |    0     |      Home      |      Sospitós      |    3     |\n",
            "|  2020-11-27  |      11     |   Baix Llobregat  |    08211     | Sant Feliu de Llobregat  |    0     |      Home      |      Sospitós      |    12    |\n",
            "|  2020-11-27  |      11     |   Baix Llobregat  |    08001     |          Abrera          |    0     |      Home      |      Sospitós      |    4     |\n",
            "|  2020-11-27  |      28     |  Pla de l'Estany  |    17137     |        Porqueres         |    0     |      Home      |      Sospitós      |    8     |\n",
            "|  2020-11-27  |      28     |  Pla de l'Estany  |    17056     |    Cornellà del Terri    |    0     |      Home      |      Sospitós      |    1     |\n",
            "|  2020-11-27  |      09     |     Baix Ebre     |    43155     |         Tortosa          |    1     |      Dona      |      Sospitós      |    9     |\n",
            "+--------------+-------------+-------------------+--------------+--------------------------+----------+----------------+--------------------+----------+\n"
          ],
          "name": "stdout"
        }
      ]
    }
  ]
}